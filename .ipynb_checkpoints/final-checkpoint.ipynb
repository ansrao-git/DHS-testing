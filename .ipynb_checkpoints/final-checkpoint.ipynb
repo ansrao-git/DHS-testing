{
 "cells": [
  {
   "cell_type": "code",
   "execution_count": null,
   "id": "a876604c",
   "metadata": {},
   "outputs": [],
   "source": [
    "import pandas as pd\n",
    "\n",
    "# Load child dataset\n",
    "child_data = pd.read_csv('https://raw.githubusercontent.com/ansrao-git/DHS-testing/main/childrecode.csv')\n",
    "\n",
    "# Load household dataset\n",
    "household_data = pd.read_csv('https://raw.githubusercontent.com/ansrao-git/DHS-testing/main/householdrecode.csv')\n",
    "\n",
    "# Merge the two datasets on the common columns\n",
    "merged_data = pd.merge(child_data, household_data, how='outer', left_on='v001', right_on='hv001')\n",
    "\n",
    "print(merged_data)\n"
   ]
  },
  {
   "cell_type": "code",
   "execution_count": null,
   "id": "06b58974",
   "metadata": {},
   "outputs": [],
   "source": [
    "import pandas as pd\n",
    "\n",
    "# read householdrecode.csv and childrecode.csv into dataframes\n",
    "household_df = pd.read_csv('householdrecode.csv')\n",
    "child_df = pd.read_csv('childrecode.csv')\n",
    "\n",
    "# extract the cluster number columns from each dataframe\n",
    "hv001 = household_df['hv001']\n",
    "v001 = child_df['v001']\n",
    "\n",
    "# use set intersection to find the number of values that appear in both columns\n",
    "num_shared_values = len(set(hv001).intersection(set(v001)))\n",
    "\n",
    "print(f\"Number of shared values: {num_shared_values}\")"
   ]
  }
 ],
 "metadata": {
  "kernelspec": {
   "display_name": "Python 3 (ipykernel)",
   "language": "python",
   "name": "python3"
  },
  "language_info": {
   "codemirror_mode": {
    "name": "ipython",
    "version": 3
   },
   "file_extension": ".py",
   "mimetype": "text/x-python",
   "name": "python",
   "nbconvert_exporter": "python",
   "pygments_lexer": "ipython3",
   "version": "3.9.13"
  }
 },
 "nbformat": 4,
 "nbformat_minor": 5
}
